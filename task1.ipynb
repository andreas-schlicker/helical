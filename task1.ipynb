{
 "cells": [
  {
   "cell_type": "markdown",
   "id": "84b57d73-488e-43c8-998e-f8aeec532843",
   "metadata": {},
   "source": [
    "Perturbation workflow\n",
    "---------------------\n",
    "\n",
    "The following functions implement a workflow for perturbing one gene in a scRNA-seq dataset. The effect of the perturbation is assessed by calculating the impact on the cells' embeddings using Geneformer. \n",
    "\n",
    "The workflow works as follows:  \n",
    " 1. The function *perturbGene* is used to knockdown (set expression to 0) or upregulate (set expression to dataset maximum) of the given gene\n",
    " 2. The function *embedData* calculates the Geneformer embeddings of a given dataset and calculates a 2D UMAP representation of the Geneformer embedding\n",
    " 3. The function *calculateDistance* calculates the Euclidean distance of all cells between two embeddings.\n",
    " 4. The function *knnClustering* identifies the 5 nearest neighbors and assigns the respective cell type label to each cell. "
   ]
  },
  {
   "cell_type": "code",
   "execution_count": 1,
   "id": "661f51ad-747a-4df8-953e-9632a7dfb913",
   "metadata": {},
   "outputs": [
    {
     "name": "stderr",
     "output_type": "stream",
     "text": [
      "INFO:datasets:PyTorch version 2.6.0 available.\n"
     ]
    }
   ],
   "source": [
    "import pandas as pd\n",
    "import numpy as np\n",
    "import anndata as ad\n",
    "import umap\n",
    "from sklearn.neighbors import KNeighborsClassifier\n",
    "from sklearn.metrics import classification_report,confusion_matrix,ConfusionMatrixDisplay\n",
    "from helical.models.geneformer import Geneformer,GeneformerConfig"
   ]
  },
  {
   "cell_type": "code",
   "execution_count": 2,
   "id": "eac3840c-1e30-43a0-9205-05cb93603568",
   "metadata": {},
   "outputs": [],
   "source": [
    "def perturbGene(gene, direction, adata, gf):\n",
    "    \"\"\" Perturb gene\n",
    "\n",
    "    gene: Ensembl gene ID of gene to be perturbed\n",
    "    direction: either \"knowckdown\" or \"upregulate\"; if \"knockdown\", counts will be set to 0; if \"upregulate\", counts will be set to the maximum in the matrix\n",
    "    adata: anndata object\n",
    "    gf: Geneformer model\n",
    "    \"\"\"\n",
    "    #gene = \"ENSG00000188761\"\n",
    "    goiIndex = adata.var.loc[adata.var.ensembl_id == gene].index\n",
    "    \n",
    "    if direction == \"knockdown\":\n",
    "        adata.X[:, adata.var.loc[adata.var.ensembl_id == \"ENSG00000188761\"].index] = 0\n",
    "    elif direction == \"upregulate\":\n",
    "        adata.X[:, adata.var.loc[adata.var.ensembl_id == \"ENSG00000188761\"].index] = adata.X.max()\n",
    "    \n",
    "    return adata\n",
    "\n",
    "def embedData(adata):\n",
    "    \"\"\" Embedding\n",
    "\n",
    "    Get the Geneformer embedding and the 2D UMAP representation\n",
    "\n",
    "    adata: anndata object\n",
    "    \"\"\"\n",
    "    # Get Geneformer embeddings\n",
    "    gfDataset = gf.process_data(adata, gene_names=\"gene_name\")\n",
    "    gfEmbeddings = gf.get_embeddings(gfDataset)\n",
    "    \n",
    "    # 2D UMAP of embedding\n",
    "    reducer = umap.UMAP(min_dist=0.2, n_components=2, n_epochs=None, n_neighbors=3)\n",
    "    umap2D = reducer.fit(gfEmbeddings)\n",
    "\n",
    "    return (gfEmbeddings, umap2D)\n",
    "\n",
    "def calculateDistance(emb1, emb2):\n",
    "    \"\"\" Euclidean distance between two embeddings\n",
    "\n",
    "    emb1: first embedding matrix\n",
    "    emb2: second embedding matrix\n",
    "    \"\"\"\n",
    "    \n",
    "    return np.linalg.norm(emb1 - emb2, axis=1)\n",
    "\n",
    "def knnClustering(emb1, emb2, cellTypes):\n",
    "    \"\"\" knn clustering to find differences in neighborhood\n",
    "\n",
    "    emb1: first embedding matrix\n",
    "    emb2: second embedding matrix\n",
    "    cellTypes: cell types\n",
    "    \"\"\"\n",
    "    \n",
    "    knn = KNeighborsClassifier(n_neighbors=5, metric='cosine')\n",
    "    knn.fit(emb1, cellTypes)\n",
    "    perturbCellTypes = knn.predict(emb2)\n",
    "    confusionMat = confusion_matrix(cellTypes, perturbCellTypes)\n",
    "\n",
    "    return (perturbCellTypes, confusionMat)"
   ]
  }
 ],
 "metadata": {
  "kernelspec": {
   "display_name": "helical",
   "language": "python",
   "name": "helical"
  },
  "language_info": {
   "codemirror_mode": {
    "name": "ipython",
    "version": 3
   },
   "file_extension": ".py",
   "mimetype": "text/x-python",
   "name": "python",
   "nbconvert_exporter": "python",
   "pygments_lexer": "ipython3",
   "version": "3.11.11"
  }
 },
 "nbformat": 4,
 "nbformat_minor": 5
}
