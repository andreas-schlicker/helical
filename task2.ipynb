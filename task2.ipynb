{
 "cells": [
  {
   "cell_type": "markdown",
   "id": "67da880f-914f-478b-b507-39d72fee8600",
   "metadata": {},
   "source": [
    "Preface\n",
    "-------\n",
    "\n",
    "I'm running this on my Windows laptop as I don't have a machine with CUDA at hand. To make that work, I'm limiting the number of cells."
   ]
  },
  {
   "cell_type": "code",
   "execution_count": 1,
   "id": "9edf0ad4-eed2-4dfc-b847-6dfb32d79099",
   "metadata": {},
   "outputs": [
    {
     "name": "stderr",
     "output_type": "stream",
     "text": [
      "INFO:datasets:PyTorch version 2.6.0 available.\n"
     ]
    }
   ],
   "source": [
    "%run task1.ipynb"
   ]
  },
  {
   "cell_type": "markdown",
   "id": "1f4ef8c0-d557-4945-abb4-bb64a5f96538",
   "metadata": {},
   "source": [
    "Define directories and data files\n",
    "---------------------------------"
   ]
  },
  {
   "cell_type": "code",
   "execution_count": 2,
   "id": "37289ee7-e60d-4f04-a0b1-51959afb3b4e",
   "metadata": {},
   "outputs": [],
   "source": [
    "# File with cell annotation\n",
    "cellAnnFile = \"helical\\GSE144236\\patient_metadata_new.txt\"\n",
    "# File with count matrix\n",
    "countsFile = \"helical\\GSE144236\\merge10pts_counts.txt\"\n",
    "# Gencode annotation file\n",
    "gencodeFile = \"helical\\gencode.v47.annotation.gtf\""
   ]
  },
  {
   "cell_type": "markdown",
   "id": "7d97095c-0ff6-4b30-951e-89604f0f520c",
   "metadata": {},
   "source": [
    "Process Gencode gene annotation\n",
    "-------------------------------"
   ]
  },
  {
   "cell_type": "code",
   "execution_count": 3,
   "id": "57b8d086-4502-4463-b67c-5b96805892f4",
   "metadata": {},
   "outputs": [],
   "source": [
    "gencode = pd.read_csv(gencodeFile, delimiter=\"\\t\", skiprows=5, header=None)\n",
    "# Keep only the two require columns\n",
    "gencode = gencode.iloc[:, [2, 8]]\n",
    "# Keep only gene entries\n",
    "gencode = gencode[gencode.iloc[:, 0] == \"gene\"]\n",
    "# Extract Ensembl ID and gene symbol\n",
    "gencode.columns = [\"type\", \"info\"]\n",
    "gencode[[\"gene_id\"]] = gencode[\"info\"].str.extract('gene_id \"(\\\\w+)')\n",
    "gencode[[\"gene_name\"]] = gencode[\"info\"].str.extract('gene_name \"(\\\\w+)\"')\n",
    "gencode = gencode.loc[:, [\"gene_id\", \"gene_name\"]]\n",
    "gencode = gencode.drop_duplicates()"
   ]
  },
  {
   "cell_type": "code",
   "execution_count": 4,
   "id": "a2798cb6-58d1-4f1b-adab-f81dd60e26dc",
   "metadata": {},
   "outputs": [],
   "source": [
    "# Read the cell annotation\n",
    "cells = pd.read_csv(cellAnnFile, delimiter=\"\\t\")\n",
    "# Read count matrix\n",
    "# Need to limit data read to make this work on my laptop\n",
    "counts = pd.read_csv(countsFile, delimiter=\"\\t\", nrows=1000)"
   ]
  },
  {
   "cell_type": "markdown",
   "id": "aa314b13-a58a-4f90-af5c-7aa04a6cfa73",
   "metadata": {},
   "source": [
    "### Create the anndata object"
   ]
  },
  {
   "cell_type": "code",
   "execution_count": 5,
   "id": "acc61c28-c52e-4f76-98ad-efea2f74c42c",
   "metadata": {},
   "outputs": [],
   "source": [
    "adata = ad.AnnData(counts[2:].transpose())\n",
    "adata.obs = cells\n",
    "# This is expected by Geneformer\n",
    "adata.obs = adata.obs.rename(columns={\"nCount_RNA\": \"n_counts\", \"tum.norm\": \"tum_norm\"})\n",
    "adata.var = pd.DataFrame(counts[2:].transpose().columns)\n",
    "# Add the Ensembl ID\n",
    "adata.var.columns = [\"gene_name\"]\n",
    "adata.var = pd.merge(adata.var, gencode, how=\"left\")\n",
    "adata.var = adata.var.rename(columns={\"gene_id\": \"ensembl_id\"})"
   ]
  },
  {
   "cell_type": "markdown",
   "id": "946a9b46-05d5-4d67-a0d6-ded4009475dc",
   "metadata": {},
   "source": [
    "### Subset the dataset\n",
    "\n",
    "Subsetting the dataset happens for several reasons:  \n",
    " 1. Makes computations feasable on a laptop\n",
    " 2. We're not interested in all cell types: Perturbations are foremost relevant in tumor cells and normal cells.  "
   ]
  },
  {
   "cell_type": "code",
   "execution_count": 6,
   "id": "2c48a925-3792-4b6a-819a-913d447d3f60",
   "metadata": {},
   "outputs": [
    {
     "name": "stderr",
     "output_type": "stream",
     "text": [
      "WARNING:py.warnings:C:\\Users\\andre\\anaconda3\\envs\\helical\\Lib\\site-packages\\anndata\\_core\\aligned_df.py:68: ImplicitModificationWarning: Transforming to str index.\n",
      "  warnings.warn(\"Transforming to str index.\", ImplicitModificationWarning)\n",
      "\n",
      "WARNING:py.warnings:C:\\Users\\andre\\anaconda3\\envs\\helical\\Lib\\site-packages\\anndata\\_core\\anndata.py:797: ImplicitModificationWarning: Trying to modify index of attribute `.var` of view, initializing view as actual.\n",
      "  getattr(self, attr).index = value\n",
      "\n",
      "WARNING:py.warnings:C:\\Users\\andre\\anaconda3\\envs\\helical\\Lib\\site-packages\\anndata\\_core\\aligned_df.py:68: ImplicitModificationWarning: Transforming to str index.\n",
      "  warnings.warn(\"Transforming to str index.\", ImplicitModificationWarning)\n",
      "\n",
      "WARNING:py.warnings:C:\\Users\\andre\\anaconda3\\envs\\helical\\Lib\\site-packages\\anndata\\_core\\aligned_df.py:68: ImplicitModificationWarning: Transforming to str index.\n",
      "  warnings.warn(\"Transforming to str index.\", ImplicitModificationWarning)\n",
      "\n"
     ]
    }
   ],
   "source": [
    "# Select a subset of tumor cells\n",
    "adataT = adata[adata.obs.tum_norm == \"Tumor\"]\n",
    "adataT = adataT[adataT.obs.level2_celltype == \"Tumor_KC_Basal\"][:100]\n",
    "\n",
    "# Select a subset of normal cells\n",
    "adataN = adata[adata.obs.tum_norm == \"Normal\"][:100]\n",
    "\n",
    "# Create the new dataset\n",
    "adataSubset = ad.concat([adataT, adataN])\n",
    "adataSubset.var = adataT.var"
   ]
  },
  {
   "cell_type": "markdown",
   "id": "a9a2ed3e-91d4-4296-ac4a-07b9ae047c3a",
   "metadata": {},
   "source": [
    "Get the Geneformer model and pre-process the data\n",
    "--------------------------------------------------"
   ]
  },
  {
   "cell_type": "code",
   "execution_count": 7,
   "id": "53f761e2-1f74-4046-a061-9025822495f3",
   "metadata": {
    "scrolled": true
   },
   "outputs": [
    {
     "name": "stderr",
     "output_type": "stream",
     "text": [
      "INFO:helical.models.geneformer.model:Model finished initializing.\n",
      "INFO:helical.models.geneformer.model:'gf-12L-95M-i4096-CLcancer' model is in 'eval' mode, on device 'cpu' with embedding mode 'cell'.\n"
     ]
    }
   ],
   "source": [
    "model_config = GeneformerConfig(model_name=\"gf-12L-95M-i4096-CLcancer\", batch_size=10, device=\"cpu\")   \n",
    "gf = Geneformer(configurer=model_config)"
   ]
  },
  {
   "cell_type": "markdown",
   "id": "51f259ec-e364-4750-9603-bf5c74c8052e",
   "metadata": {},
   "source": [
    "Perturb gene\n",
    "------------\n",
    "\n",
    "Perturb a gene "
   ]
  },
  {
   "cell_type": "code",
   "execution_count": 8,
   "id": "e222aaeb-f15f-459f-be2c-e6f2b21af8c5",
   "metadata": {},
   "outputs": [
    {
     "name": "stderr",
     "output_type": "stream",
     "text": [
      "INFO:helical.models.geneformer.model:Processing data for Geneformer.\n",
      "INFO:pyensembl.sequence_data:Loaded sequence dictionary from C:\\Users\\andre\\AppData\\Local\\pyensembl\\GRCh38\\ensembl110\\pyensembl\\GRCh38\\ensembl110\\Cache\\Homo_sapiens.GRCh38.cdna.all.fa.gz.pickle\n",
      "INFO:pyensembl.sequence_data:Loaded sequence dictionary from C:\\Users\\andre\\AppData\\Local\\pyensembl\\GRCh38\\ensembl110\\pyensembl\\GRCh38\\ensembl110\\Cache\\Homo_sapiens.GRCh38.ncrna.fa.gz.pickle\n",
      "INFO:pyensembl.sequence_data:Loaded sequence dictionary from C:\\Users\\andre\\AppData\\Local\\pyensembl\\GRCh38\\ensembl110\\pyensembl\\GRCh38\\ensembl110\\Cache\\Homo_sapiens.GRCh38.pep.all.fa.gz.pickle\n",
      "WARNING:py.warnings:C:\\Users\\andre\\anaconda3\\envs\\helical\\Lib\\site-packages\\helical\\utils\\mapping.py:40: ImplicitModificationWarning: Trying to modify attribute `.var` of view, initializing view as actual.\n",
      "  adata.var[\"ensembl_id\"] = pd.Series([None] * len(adata.var), index=adata.var.index)\n",
      "\n",
      "INFO:helical.utils.mapping:Mapped 773 genes to Ensembl IDs from a total of 998 genes.\n",
      "WARNING:py.warnings:C:\\Users\\andre\\anaconda3\\envs\\helical\\Lib\\site-packages\\helical\\models\\geneformer\\geneformer_tokenizer.py:138: ImplicitModificationWarning: Trying to modify attribute `.var` of view, initializing view as actual.\n",
      "  data.var[\"gene_ids_collapsed\"] = gene_ids_collapsed\n",
      "\n",
      "WARNING:py.warnings:C:\\Users\\andre\\anaconda3\\envs\\helical\\Lib\\site-packages\\anndata\\_core\\anndata.py:797: ImplicitModificationWarning: Trying to modify index of attribute `.var` of view, initializing view as actual.\n",
      "  getattr(self, attr).index = value\n",
      "\n",
      "WARNING:py.warnings:C:\\Users\\andre\\anaconda3\\envs\\helical\\Lib\\site-packages\\anndata\\_core\\aligned_df.py:68: ImplicitModificationWarning: Transforming to str index.\n",
      "  warnings.warn(\"Transforming to str index.\", ImplicitModificationWarning)\n",
      "\n",
      "WARNING:py.warnings:C:\\Users\\andre\\anaconda3\\envs\\helical\\Lib\\site-packages\\anndata\\_core\\anndata.py:1760: UserWarning: Variable names are not unique. To make them unique, call `.var_names_make_unique`.\n",
      "  utils.warn_names_duplicates(\"var\")\n",
      "\n",
      "INFO:helical.models.geneformer.geneformer_tokenizer:AnnData object with n_obs × n_vars = 200 × 998\n",
      "    obs: 'n_counts', 'nFeature_RNA', 'patient', 'tum_norm', 'level1_celltype', 'level2_celltype', 'level3_celltype', 'total_counts'\n",
      "    var: 'gene_name', 'ensembl_id' has no column attribute 'filter_pass'; tokenizing all cells.\n",
      "INFO:helical.models.geneformer.geneformer_tokenizer:Creating dataset.\n"
     ]
    },
    {
     "data": {
      "application/vnd.jupyter.widget-view+json": {
       "model_id": "a0dc19ccd8e045fdb6f8f38f762d43f7",
       "version_major": 2,
       "version_minor": 0
      },
      "text/plain": [
       "Map:   0%|          | 0/200 [00:00<?, ? examples/s]"
      ]
     },
     "metadata": {},
     "output_type": "display_data"
    },
    {
     "name": "stderr",
     "output_type": "stream",
     "text": [
      "INFO:helical.models.geneformer.model:Successfully processed the data for Geneformer.\n",
      "INFO:helical.models.geneformer.model:Started getting embeddings:\n",
      "WARNING:helical.models.geneformer.geneformer_utils:CLS token present in token dictionary, excluding from average.\n",
      "WARNING:helical.models.geneformer.geneformer_utils:EOS token present in token dictionary, excluding from average.\n"
     ]
    },
    {
     "data": {
      "application/vnd.jupyter.widget-view+json": {
       "model_id": "343429d81fa24af896f1033f748ddc61",
       "version_major": 2,
       "version_minor": 0
      },
      "text/plain": [
       "  0%|          | 0/20 [00:00<?, ?it/s]"
      ]
     },
     "metadata": {},
     "output_type": "display_data"
    },
    {
     "name": "stderr",
     "output_type": "stream",
     "text": [
      "INFO:helical.models.geneformer.model:Finished getting embeddings.\n",
      "INFO:helical.models.geneformer.model:Processing data for Geneformer.\n",
      "INFO:pyensembl.sequence_data:Loaded sequence dictionary from C:\\Users\\andre\\AppData\\Local\\pyensembl\\GRCh38\\ensembl110\\pyensembl\\GRCh38\\ensembl110\\Cache\\Homo_sapiens.GRCh38.cdna.all.fa.gz.pickle\n",
      "INFO:pyensembl.sequence_data:Loaded sequence dictionary from C:\\Users\\andre\\AppData\\Local\\pyensembl\\GRCh38\\ensembl110\\pyensembl\\GRCh38\\ensembl110\\Cache\\Homo_sapiens.GRCh38.ncrna.fa.gz.pickle\n",
      "INFO:pyensembl.sequence_data:Loaded sequence dictionary from C:\\Users\\andre\\AppData\\Local\\pyensembl\\GRCh38\\ensembl110\\pyensembl\\GRCh38\\ensembl110\\Cache\\Homo_sapiens.GRCh38.pep.all.fa.gz.pickle\n",
      "WARNING:py.warnings:C:\\Users\\andre\\anaconda3\\envs\\helical\\Lib\\site-packages\\helical\\utils\\mapping.py:40: ImplicitModificationWarning: Trying to modify attribute `.var` of view, initializing view as actual.\n",
      "  adata.var[\"ensembl_id\"] = pd.Series([None] * len(adata.var), index=adata.var.index)\n",
      "\n",
      "WARNING:py.warnings:C:\\Users\\andre\\anaconda3\\envs\\helical\\Lib\\site-packages\\anndata\\_core\\anndata.py:1760: UserWarning: Variable names are not unique. To make them unique, call `.var_names_make_unique`.\n",
      "  utils.warn_names_duplicates(\"var\")\n",
      "\n",
      "WARNING:py.warnings:C:\\Users\\andre\\anaconda3\\envs\\helical\\Lib\\site-packages\\anndata\\_core\\anndata.py:1760: UserWarning: Variable names are not unique. To make them unique, call `.var_names_make_unique`.\n",
      "  utils.warn_names_duplicates(\"var\")\n",
      "\n",
      "INFO:helical.utils.mapping:Mapped 773 genes to Ensembl IDs from a total of 998 genes.\n",
      "WARNING:py.warnings:C:\\Users\\andre\\anaconda3\\envs\\helical\\Lib\\site-packages\\helical\\models\\geneformer\\geneformer_tokenizer.py:138: ImplicitModificationWarning: Trying to modify attribute `.var` of view, initializing view as actual.\n",
      "  data.var[\"gene_ids_collapsed\"] = gene_ids_collapsed\n",
      "\n",
      "WARNING:py.warnings:C:\\Users\\andre\\anaconda3\\envs\\helical\\Lib\\site-packages\\anndata\\_core\\anndata.py:797: ImplicitModificationWarning: Trying to modify index of attribute `.var` of view, initializing view as actual.\n",
      "  getattr(self, attr).index = value\n",
      "\n",
      "WARNING:py.warnings:C:\\Users\\andre\\anaconda3\\envs\\helical\\Lib\\site-packages\\anndata\\_core\\aligned_df.py:68: ImplicitModificationWarning: Transforming to str index.\n",
      "  warnings.warn(\"Transforming to str index.\", ImplicitModificationWarning)\n",
      "\n",
      "WARNING:py.warnings:C:\\Users\\andre\\anaconda3\\envs\\helical\\Lib\\site-packages\\anndata\\_core\\anndata.py:1760: UserWarning: Variable names are not unique. To make them unique, call `.var_names_make_unique`.\n",
      "  utils.warn_names_duplicates(\"var\")\n",
      "\n",
      "INFO:helical.models.geneformer.geneformer_tokenizer:AnnData object with n_obs × n_vars = 200 × 998\n",
      "    obs: 'n_counts', 'nFeature_RNA', 'patient', 'tum_norm', 'level1_celltype', 'level2_celltype', 'level3_celltype', 'total_counts'\n",
      "    var: 'gene_name', 'ensembl_id' has no column attribute 'filter_pass'; tokenizing all cells.\n",
      "INFO:helical.models.geneformer.geneformer_tokenizer:Creating dataset.\n"
     ]
    },
    {
     "data": {
      "application/vnd.jupyter.widget-view+json": {
       "model_id": "298c44929dec4eac993c2bfc9a51763e",
       "version_major": 2,
       "version_minor": 0
      },
      "text/plain": [
       "Map:   0%|          | 0/200 [00:00<?, ? examples/s]"
      ]
     },
     "metadata": {},
     "output_type": "display_data"
    },
    {
     "name": "stderr",
     "output_type": "stream",
     "text": [
      "INFO:helical.models.geneformer.model:Successfully processed the data for Geneformer.\n",
      "INFO:helical.models.geneformer.model:Started getting embeddings:\n",
      "WARNING:helical.models.geneformer.geneformer_utils:CLS token present in token dictionary, excluding from average.\n",
      "WARNING:helical.models.geneformer.geneformer_utils:EOS token present in token dictionary, excluding from average.\n"
     ]
    },
    {
     "data": {
      "application/vnd.jupyter.widget-view+json": {
       "model_id": "6ad276b40ee349bcb16adfc62dec2dd5",
       "version_major": 2,
       "version_minor": 0
      },
      "text/plain": [
       "  0%|          | 0/20 [00:00<?, ?it/s]"
      ]
     },
     "metadata": {},
     "output_type": "display_data"
    },
    {
     "name": "stderr",
     "output_type": "stream",
     "text": [
      "INFO:helical.models.geneformer.model:Finished getting embeddings.\n"
     ]
    }
   ],
   "source": [
    "# Calculate original embeddings\n",
    "gfEmbeddingOriginal, umapOriginal = embedData(adataSubset)\n",
    "\n",
    "# Up-regulate a gene\n",
    "adataPerturbed = perturbGene(\"ENSG00000188761\", \"upregulate\", adataSubset, gf)\n",
    "# Calculate embeddings using perturbed data\n",
    "gfEmbeddingPerturbed, umapPerturbed = embedData(adataPerturbed)"
   ]
  }
 ],
 "metadata": {
  "kernelspec": {
   "display_name": "helical",
   "language": "python",
   "name": "helical"
  },
  "language_info": {
   "codemirror_mode": {
    "name": "ipython",
    "version": 3
   },
   "file_extension": ".py",
   "mimetype": "text/x-python",
   "name": "python",
   "nbconvert_exporter": "python",
   "pygments_lexer": "ipython3",
   "version": "3.11.11"
  }
 },
 "nbformat": 4,
 "nbformat_minor": 5
}
