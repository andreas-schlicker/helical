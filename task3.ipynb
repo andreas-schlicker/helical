{
 "cells": [
  {
   "cell_type": "markdown",
   "id": "fff7dce7-b239-47b9-b440-5d350bd0f4b7",
   "metadata": {},
   "source": [
    "Analyze perturbation results\n",
    "----------\n",
    "\n",
    "This notebook looks at the result of a gene perturbation. "
   ]
  },
  {
   "cell_type": "code",
   "execution_count": 1,
   "id": "77c39fcc-b5be-4dc5-bd86-02f043e7ff11",
   "metadata": {},
   "outputs": [
    {
     "name": "stderr",
     "output_type": "stream",
     "text": [
      "INFO:datasets:PyTorch version 2.6.0 available.\n",
      "WARNING:py.warnings:C:\\Users\\andre\\anaconda3\\envs\\helical\\Lib\\site-packages\\anndata\\_core\\aligned_df.py:68: ImplicitModificationWarning: Transforming to str index.\n",
      "  warnings.warn(\"Transforming to str index.\", ImplicitModificationWarning)\n",
      "\n",
      "WARNING:py.warnings:C:\\Users\\andre\\anaconda3\\envs\\helical\\Lib\\site-packages\\anndata\\_core\\anndata.py:797: ImplicitModificationWarning: Trying to modify index of attribute `.var` of view, initializing view as actual.\n",
      "  getattr(self, attr).index = value\n",
      "\n",
      "WARNING:py.warnings:C:\\Users\\andre\\anaconda3\\envs\\helical\\Lib\\site-packages\\anndata\\_core\\aligned_df.py:68: ImplicitModificationWarning: Transforming to str index.\n",
      "  warnings.warn(\"Transforming to str index.\", ImplicitModificationWarning)\n",
      "\n",
      "WARNING:py.warnings:C:\\Users\\andre\\anaconda3\\envs\\helical\\Lib\\site-packages\\anndata\\_core\\aligned_df.py:68: ImplicitModificationWarning: Transforming to str index.\n",
      "  warnings.warn(\"Transforming to str index.\", ImplicitModificationWarning)\n",
      "\n",
      "INFO:helical.models.geneformer.model:Model finished initializing.\n",
      "INFO:helical.models.geneformer.model:'gf-12L-95M-i4096-CLcancer' model is in 'eval' mode, on device 'cpu' with embedding mode 'cell'.\n",
      "INFO:helical.models.geneformer.model:Processing data for Geneformer.\n",
      "INFO:pyensembl.sequence_data:Loaded sequence dictionary from C:\\Users\\andre\\AppData\\Local\\pyensembl\\GRCh38\\ensembl110\\pyensembl\\GRCh38\\ensembl110\\Cache\\Homo_sapiens.GRCh38.cdna.all.fa.gz.pickle\n",
      "INFO:pyensembl.sequence_data:Loaded sequence dictionary from C:\\Users\\andre\\AppData\\Local\\pyensembl\\GRCh38\\ensembl110\\pyensembl\\GRCh38\\ensembl110\\Cache\\Homo_sapiens.GRCh38.ncrna.fa.gz.pickle\n",
      "INFO:pyensembl.sequence_data:Loaded sequence dictionary from C:\\Users\\andre\\AppData\\Local\\pyensembl\\GRCh38\\ensembl110\\pyensembl\\GRCh38\\ensembl110\\Cache\\Homo_sapiens.GRCh38.pep.all.fa.gz.pickle\n",
      "WARNING:py.warnings:C:\\Users\\andre\\anaconda3\\envs\\helical\\Lib\\site-packages\\helical\\utils\\mapping.py:40: ImplicitModificationWarning: Trying to modify attribute `.var` of view, initializing view as actual.\n",
      "  adata.var[\"ensembl_id\"] = pd.Series([None] * len(adata.var), index=adata.var.index)\n",
      "\n",
      "INFO:helical.utils.mapping:Mapped 773 genes to Ensembl IDs from a total of 998 genes.\n",
      "WARNING:py.warnings:C:\\Users\\andre\\anaconda3\\envs\\helical\\Lib\\site-packages\\helical\\models\\geneformer\\geneformer_tokenizer.py:138: ImplicitModificationWarning: Trying to modify attribute `.var` of view, initializing view as actual.\n",
      "  data.var[\"gene_ids_collapsed\"] = gene_ids_collapsed\n",
      "\n",
      "WARNING:py.warnings:C:\\Users\\andre\\anaconda3\\envs\\helical\\Lib\\site-packages\\anndata\\_core\\anndata.py:797: ImplicitModificationWarning: Trying to modify index of attribute `.var` of view, initializing view as actual.\n",
      "  getattr(self, attr).index = value\n",
      "\n",
      "WARNING:py.warnings:C:\\Users\\andre\\anaconda3\\envs\\helical\\Lib\\site-packages\\anndata\\_core\\aligned_df.py:68: ImplicitModificationWarning: Transforming to str index.\n",
      "  warnings.warn(\"Transforming to str index.\", ImplicitModificationWarning)\n",
      "\n",
      "WARNING:py.warnings:C:\\Users\\andre\\anaconda3\\envs\\helical\\Lib\\site-packages\\anndata\\_core\\anndata.py:1760: UserWarning: Variable names are not unique. To make them unique, call `.var_names_make_unique`.\n",
      "  utils.warn_names_duplicates(\"var\")\n",
      "\n",
      "INFO:helical.models.geneformer.geneformer_tokenizer:AnnData object with n_obs × n_vars = 200 × 998\n",
      "    obs: 'n_counts', 'nFeature_RNA', 'patient', 'tum_norm', 'level1_celltype', 'level2_celltype', 'level3_celltype', 'total_counts'\n",
      "    var: 'gene_name', 'ensembl_id' has no column attribute 'filter_pass'; tokenizing all cells.\n",
      "INFO:helical.models.geneformer.geneformer_tokenizer:Creating dataset.\n"
     ]
    },
    {
     "data": {
      "application/vnd.jupyter.widget-view+json": {
       "model_id": "abd11fba10d34a09a2be02700f28b8ed",
       "version_major": 2,
       "version_minor": 0
      },
      "text/plain": [
       "Map:   0%|          | 0/200 [00:00<?, ? examples/s]"
      ]
     },
     "metadata": {},
     "output_type": "display_data"
    },
    {
     "name": "stderr",
     "output_type": "stream",
     "text": [
      "INFO:helical.models.geneformer.model:Successfully processed the data for Geneformer.\n",
      "INFO:helical.models.geneformer.model:Started getting embeddings:\n",
      "WARNING:helical.models.geneformer.geneformer_utils:CLS token present in token dictionary, excluding from average.\n",
      "WARNING:helical.models.geneformer.geneformer_utils:EOS token present in token dictionary, excluding from average.\n"
     ]
    },
    {
     "data": {
      "application/vnd.jupyter.widget-view+json": {
       "model_id": "36d03cf44e23434498755e34797ef045",
       "version_major": 2,
       "version_minor": 0
      },
      "text/plain": [
       "  0%|          | 0/20 [00:00<?, ?it/s]"
      ]
     },
     "metadata": {},
     "output_type": "display_data"
    },
    {
     "name": "stderr",
     "output_type": "stream",
     "text": [
      "INFO:helical.models.geneformer.model:Finished getting embeddings.\n",
      "INFO:helical.models.geneformer.model:Processing data for Geneformer.\n",
      "INFO:pyensembl.sequence_data:Loaded sequence dictionary from C:\\Users\\andre\\AppData\\Local\\pyensembl\\GRCh38\\ensembl110\\pyensembl\\GRCh38\\ensembl110\\Cache\\Homo_sapiens.GRCh38.cdna.all.fa.gz.pickle\n",
      "INFO:pyensembl.sequence_data:Loaded sequence dictionary from C:\\Users\\andre\\AppData\\Local\\pyensembl\\GRCh38\\ensembl110\\pyensembl\\GRCh38\\ensembl110\\Cache\\Homo_sapiens.GRCh38.ncrna.fa.gz.pickle\n",
      "INFO:pyensembl.sequence_data:Loaded sequence dictionary from C:\\Users\\andre\\AppData\\Local\\pyensembl\\GRCh38\\ensembl110\\pyensembl\\GRCh38\\ensembl110\\Cache\\Homo_sapiens.GRCh38.pep.all.fa.gz.pickle\n",
      "WARNING:py.warnings:C:\\Users\\andre\\anaconda3\\envs\\helical\\Lib\\site-packages\\helical\\utils\\mapping.py:40: ImplicitModificationWarning: Trying to modify attribute `.var` of view, initializing view as actual.\n",
      "  adata.var[\"ensembl_id\"] = pd.Series([None] * len(adata.var), index=adata.var.index)\n",
      "\n",
      "WARNING:py.warnings:C:\\Users\\andre\\anaconda3\\envs\\helical\\Lib\\site-packages\\anndata\\_core\\anndata.py:1760: UserWarning: Variable names are not unique. To make them unique, call `.var_names_make_unique`.\n",
      "  utils.warn_names_duplicates(\"var\")\n",
      "\n",
      "WARNING:py.warnings:C:\\Users\\andre\\anaconda3\\envs\\helical\\Lib\\site-packages\\anndata\\_core\\anndata.py:1760: UserWarning: Variable names are not unique. To make them unique, call `.var_names_make_unique`.\n",
      "  utils.warn_names_duplicates(\"var\")\n",
      "\n",
      "INFO:helical.utils.mapping:Mapped 773 genes to Ensembl IDs from a total of 998 genes.\n",
      "WARNING:py.warnings:C:\\Users\\andre\\anaconda3\\envs\\helical\\Lib\\site-packages\\helical\\models\\geneformer\\geneformer_tokenizer.py:138: ImplicitModificationWarning: Trying to modify attribute `.var` of view, initializing view as actual.\n",
      "  data.var[\"gene_ids_collapsed\"] = gene_ids_collapsed\n",
      "\n",
      "WARNING:py.warnings:C:\\Users\\andre\\anaconda3\\envs\\helical\\Lib\\site-packages\\anndata\\_core\\anndata.py:797: ImplicitModificationWarning: Trying to modify index of attribute `.var` of view, initializing view as actual.\n",
      "  getattr(self, attr).index = value\n",
      "\n",
      "WARNING:py.warnings:C:\\Users\\andre\\anaconda3\\envs\\helical\\Lib\\site-packages\\anndata\\_core\\aligned_df.py:68: ImplicitModificationWarning: Transforming to str index.\n",
      "  warnings.warn(\"Transforming to str index.\", ImplicitModificationWarning)\n",
      "\n",
      "WARNING:py.warnings:C:\\Users\\andre\\anaconda3\\envs\\helical\\Lib\\site-packages\\anndata\\_core\\anndata.py:1760: UserWarning: Variable names are not unique. To make them unique, call `.var_names_make_unique`.\n",
      "  utils.warn_names_duplicates(\"var\")\n",
      "\n",
      "INFO:helical.models.geneformer.geneformer_tokenizer:AnnData object with n_obs × n_vars = 200 × 998\n",
      "    obs: 'n_counts', 'nFeature_RNA', 'patient', 'tum_norm', 'level1_celltype', 'level2_celltype', 'level3_celltype', 'total_counts'\n",
      "    var: 'gene_name', 'ensembl_id' has no column attribute 'filter_pass'; tokenizing all cells.\n",
      "INFO:helical.models.geneformer.geneformer_tokenizer:Creating dataset.\n"
     ]
    },
    {
     "data": {
      "application/vnd.jupyter.widget-view+json": {
       "model_id": "4e89f00b964344bcb8ba3d6aed26fa50",
       "version_major": 2,
       "version_minor": 0
      },
      "text/plain": [
       "Map:   0%|          | 0/200 [00:00<?, ? examples/s]"
      ]
     },
     "metadata": {},
     "output_type": "display_data"
    },
    {
     "name": "stderr",
     "output_type": "stream",
     "text": [
      "INFO:helical.models.geneformer.model:Successfully processed the data for Geneformer.\n",
      "INFO:helical.models.geneformer.model:Started getting embeddings:\n",
      "WARNING:helical.models.geneformer.geneformer_utils:CLS token present in token dictionary, excluding from average.\n",
      "WARNING:helical.models.geneformer.geneformer_utils:EOS token present in token dictionary, excluding from average.\n"
     ]
    },
    {
     "data": {
      "application/vnd.jupyter.widget-view+json": {
       "model_id": "79a29f6dda6f4b2eae5c4fe291b07bd9",
       "version_major": 2,
       "version_minor": 0
      },
      "text/plain": [
       "  0%|          | 0/20 [00:00<?, ?it/s]"
      ]
     },
     "metadata": {},
     "output_type": "display_data"
    },
    {
     "name": "stderr",
     "output_type": "stream",
     "text": [
      "INFO:helical.models.geneformer.model:Finished getting embeddings.\n"
     ]
    }
   ],
   "source": [
    "%run task2.ipynb"
   ]
  },
  {
   "cell_type": "code",
   "execution_count": 2,
   "id": "21c704df-7af6-40d2-b8e0-bfa1512fd559",
   "metadata": {},
   "outputs": [],
   "source": [
    "# Calculate distances\n",
    "dist = calculateDistance(pd.DataFrame(umapOriginal.embedding_, columns=['px','py']), pd.DataFrame(umapPerturbed.embedding_, columns=['px','py']))\n",
    "# Perform knn analysis; as label use tum_norm to see if perturbed cells switch to the other cell type cluster\n",
    "knnLabels, knnConfusion = knnClustering(gfEmbeddingOriginal, gfEmbeddingPerturbed, adataSubset.obs[\"tum_norm\"])\n",
    "# Get the scikit classification report\n",
    "classReport = classification_report(adataSubset.obs[\"tum_norm\"], knnLabels)"
   ]
  },
  {
   "cell_type": "markdown",
   "id": "e0f6b92f-ccd3-424b-91eb-f9b29a995ae9",
   "metadata": {},
   "source": [
    "### Changes of UMAP embeddings\n",
    "\n",
    "If a gene is a good target, it would be expected that the embedding of tumor cells changes more than the embedding of normal cells. This has two reasons:  \n",
    " 1. If embeddings of tumor cells don't change, the perturbation did not affect them and no treatment affect would be expected.\n",
    " 2. If embeddings of normal cells changes too much, treatemnt would be expected to cause side effects.\n",
    "\n",
    "The following matrix shows the median distance in embedding for tumor and normal cells. Both values are very similar indicating that overexpression of ENSG00000188761 does not have a specific effect on tumor cells."
   ]
  },
  {
   "cell_type": "code",
   "execution_count": 3,
   "id": "33b4a9f4-d93f-4b35-89f8-e8878a23e79c",
   "metadata": {},
   "outputs": [
    {
     "data": {
      "text/html": [
       "<div>\n",
       "<style scoped>\n",
       "    .dataframe tbody tr th:only-of-type {\n",
       "        vertical-align: middle;\n",
       "    }\n",
       "\n",
       "    .dataframe tbody tr th {\n",
       "        vertical-align: top;\n",
       "    }\n",
       "\n",
       "    .dataframe thead th {\n",
       "        text-align: right;\n",
       "    }\n",
       "</style>\n",
       "<table border=\"1\" class=\"dataframe\">\n",
       "  <thead>\n",
       "    <tr style=\"text-align: right;\">\n",
       "      <th></th>\n",
       "      <th>dist</th>\n",
       "    </tr>\n",
       "    <tr>\n",
       "      <th>tum_norm</th>\n",
       "      <th></th>\n",
       "    </tr>\n",
       "  </thead>\n",
       "  <tbody>\n",
       "    <tr>\n",
       "      <th>Normal</th>\n",
       "      <td>3.457562</td>\n",
       "    </tr>\n",
       "    <tr>\n",
       "      <th>Tumor</th>\n",
       "      <td>2.623294</td>\n",
       "    </tr>\n",
       "  </tbody>\n",
       "</table>\n",
       "</div>"
      ],
      "text/plain": [
       "              dist\n",
       "tum_norm          \n",
       "Normal    3.457562\n",
       "Tumor     2.623294"
      ]
     },
     "execution_count": 3,
     "metadata": {},
     "output_type": "execute_result"
    }
   ],
   "source": [
    "adataSubset.obs[\"dist\"] = dist\n",
    "adataSubset.obs[[\"tum_norm\", \"dist\"]].groupby(\"tum_norm\").agg(\"median\")"
   ]
  },
  {
   "cell_type": "markdown",
   "id": "73b26192-6309-45ad-a510-cde5a858d17d",
   "metadata": {},
   "source": [
    "### Difference in cell labels\n",
    "\n",
    "Each cell was labeled as tumor or normal cell base on a knn clustering looking at the labels of the 5 closest cells. The confusion matrix shows the difference between the original label and the label predicted after perturbation. Good targets would be expected to have no strong effect on labelling of normal cells but do change predicted labels of tumors cells. \n",
    "\n",
    "The perturbation matrix shows that a similar number of tumor and normal cells are predicted to switch to the other class. This indicates that overexpression of ENSG00000188761 is not a viable treatment strategy."
   ]
  },
  {
   "cell_type": "code",
   "execution_count": 4,
   "id": "4434ee2c-04a3-4631-baba-e97443ca59a4",
   "metadata": {},
   "outputs": [
    {
     "name": "stdout",
     "output_type": "stream",
     "text": [
      "[[85 15]\n",
      " [13 87]]\n"
     ]
    }
   ],
   "source": [
    "print(knnConfusion)"
   ]
  },
  {
   "cell_type": "markdown",
   "id": "a2ca349a-f9c2-4ad3-bed5-b30463d17845",
   "metadata": {},
   "source": [
    "### Clustering metrics\n",
    "\n",
    "The clustering report summarizes several metrics showing how good the agreement between original and predicted labels is. For good targets, \n",
    "it would be expected that the metrics show a high precision and recall for normal cells, indicating that most normal labels are stable. Additionally, \n",
    "it would be expected that the metrics show a high precision but lower recall for tumor cells, indicating that tumor cells switch label. But those cell \n",
    "identified as tumor cells are actual tumor cells.\n",
    "\n",
    "The report below shows that both cell types are impacted in a highly similar manner by the perturbation, showing again that upregulation of ENSG00000188761\n",
    "is not a viable strategy"
   ]
  },
  {
   "cell_type": "code",
   "execution_count": 5,
   "id": "b6ecf8e3-cc32-4267-b04d-1ca2731a2bf5",
   "metadata": {},
   "outputs": [
    {
     "name": "stdout",
     "output_type": "stream",
     "text": [
      "              precision    recall  f1-score   support\n",
      "\n",
      "      Normal       0.87      0.85      0.86       100\n",
      "       Tumor       0.85      0.87      0.86       100\n",
      "\n",
      "    accuracy                           0.86       200\n",
      "   macro avg       0.86      0.86      0.86       200\n",
      "weighted avg       0.86      0.86      0.86       200\n",
      "\n"
     ]
    }
   ],
   "source": [
    "print(classReport)"
   ]
  },
  {
   "cell_type": "markdown",
   "id": "5c48f5fc-65c0-449c-a674-6d8840821a52",
   "metadata": {},
   "source": [
    "Summary\n",
    "-----------\n",
    "\n",
    "All results indicate that upregulation of ENSG00000188761 is not a viable treatment strategy for squamous cell carcinoma."
   ]
  }
 ],
 "metadata": {
  "kernelspec": {
   "display_name": "helical",
   "language": "python",
   "name": "helical"
  },
  "language_info": {
   "codemirror_mode": {
    "name": "ipython",
    "version": 3
   },
   "file_extension": ".py",
   "mimetype": "text/x-python",
   "name": "python",
   "nbconvert_exporter": "python",
   "pygments_lexer": "ipython3",
   "version": "3.11.11"
  }
 },
 "nbformat": 4,
 "nbformat_minor": 5
}
